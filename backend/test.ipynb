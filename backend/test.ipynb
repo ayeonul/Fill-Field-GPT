{
 "cells": [
  {
   "cell_type": "code",
   "execution_count": 1,
   "metadata": {},
   "outputs": [],
   "source": [
    "import os\n",
    "from dotenv import load_dotenv\n",
    "import openai\n",
    "import json\n",
    "from utils import *\n",
    "from IPython.display import Markdown\n",
    "\n",
    "load_dotenv()\n",
    "OPENAI = os.getenv(\"OPENAI_KEY\")"
   ]
  },
  {
   "cell_type": "code",
   "execution_count": 2,
   "metadata": {},
   "outputs": [],
   "source": [
    "with open(\"./func_sample.json\", \"r\") as f:\n",
    "    field_info = json.load(f)"
   ]
  },
  {
   "cell_type": "code",
   "execution_count": 3,
   "metadata": {},
   "outputs": [
    {
     "data": {
      "text/plain": [
       "{'properties': {'grade_lvl': {'type': 'integer',\n",
       "   'description': 'The current academic year or grade of the student(1~3), indicating their stage of education and experience.'},\n",
       "  'acad_perf': {'type': 'string',\n",
       "   'description': \"Reflects the student's academic achievements, encompassing overall grade trends and specific subject performances.\"},\n",
       "  'interests': {'type': 'string',\n",
       "   'description': 'Fields or activities the student is passionate about or interested in.'},\n",
       "  'extrac_act': {'type': 'string',\n",
       "   'description': 'Activities and experiences the student has taken part in outside of school.'},\n",
       "  'pers_traits': {'type': 'string',\n",
       "   'description': \"The student's individual characteristics and temperament.\"},\n",
       "  'schl_act': {'type': 'string',\n",
       "   'description': 'Clubs or activities the student is involved in within the school.'},\n",
       "  'hobby_skill': {'type': 'string',\n",
       "   'description': 'Unique hobbies or abilities the student possesses.'},\n",
       "  'job_values': {'type': 'string',\n",
       "   'description': 'Values the student considers important in a job, such as stability, independence, creativity, etc.'},\n",
       "  'etc': {'type': 'string',\n",
       "   'description': 'A shorthand what user said, except for the other properties listed above.'}},\n",
       " 'required': ['acad_perf',\n",
       "  'interests',\n",
       "  'extrac_act',\n",
       "  'pers_traits',\n",
       "  'job_values']}"
      ]
     },
     "execution_count": 3,
     "metadata": {},
     "output_type": "execute_result"
    }
   ],
   "source": [
    "field_info"
   ]
  },
  {
   "cell_type": "code",
   "execution_count": 4,
   "metadata": {},
   "outputs": [
    {
     "data": {
      "text/plain": [
       "{'grade_lvl': {'type': 'integer',\n",
       "  'description': 'The current academic year or grade of the student(1~3), indicating their stage of education and experience.'},\n",
       " 'acad_perf': {'type': 'string',\n",
       "  'description': \"Reflects the student's academic achievements, encompassing overall grade trends and specific subject performances.\"},\n",
       " 'interests': {'type': 'string',\n",
       "  'description': 'Fields or activities the student is passionate about or interested in.'},\n",
       " 'extrac_act': {'type': 'string',\n",
       "  'description': 'Activities and experiences the student has taken part in outside of school.'},\n",
       " 'pers_traits': {'type': 'string',\n",
       "  'description': \"The student's individual characteristics and temperament.\"},\n",
       " 'schl_act': {'type': 'string',\n",
       "  'description': 'Clubs or activities the student is involved in within the school.'},\n",
       " 'hobby_skill': {'type': 'string',\n",
       "  'description': 'Unique hobbies or abilities the student possesses.'},\n",
       " 'job_values': {'type': 'string',\n",
       "  'description': 'Values the student considers important in a job, such as stability, independence, creativity, etc.'},\n",
       " 'etc': {'type': 'string',\n",
       "  'description': 'A shorthand what user said, except for the other properties listed above.'}}"
      ]
     },
     "execution_count": 4,
     "metadata": {},
     "output_type": "execute_result"
    }
   ],
   "source": [
    "properties = field_info[\"properties\"]\n",
    "properties"
   ]
  },
  {
   "cell_type": "code",
   "execution_count": 5,
   "metadata": {},
   "outputs": [
    {
     "data": {
      "text/plain": [
       "[{'name': 'store_counselee_data',\n",
       "  'description': 'A function that collects essential information to provide career counseling to a user. It will not work unless all required arguments are met.',\n",
       "  'parameters': {'type': 'object',\n",
       "   'properties': {'grade_lvl': {'type': 'integer',\n",
       "     'description': 'The current academic year or grade of the student(1~3), indicating their stage of education and experience.'},\n",
       "    'acad_perf': {'type': 'string',\n",
       "     'description': \"Reflects the student's academic achievements, encompassing overall grade trends and specific subject performances.\"},\n",
       "    'interests': {'type': 'string',\n",
       "     'description': 'Fields or activities the student is passionate about or interested in.'},\n",
       "    'extrac_act': {'type': 'string',\n",
       "     'description': 'Activities and experiences the student has taken part in outside of school.'},\n",
       "    'pers_traits': {'type': 'string',\n",
       "     'description': \"The student's individual characteristics and temperament.\"},\n",
       "    'schl_act': {'type': 'string',\n",
       "     'description': 'Clubs or activities the student is involved in within the school.'},\n",
       "    'hobby_skill': {'type': 'string',\n",
       "     'description': 'Unique hobbies or abilities the student possesses.'},\n",
       "    'job_values': {'type': 'string',\n",
       "     'description': 'Values the student considers important in a job, such as stability, independence, creativity, etc.'},\n",
       "    'etc': {'type': 'string',\n",
       "     'description': 'A shorthand what user said, except for the other properties listed above.'}},\n",
       "   'required': ['acad_perf',\n",
       "    'interests',\n",
       "    'extrac_act',\n",
       "    'pers_traits',\n",
       "    'job_values']}}]"
      ]
     },
     "execution_count": 5,
     "metadata": {},
     "output_type": "execute_result"
    }
   ],
   "source": [
    "func_desc = [\n",
    "    {\n",
    "        \"name\": \"store_counselee_data\",\n",
    "        \"description\": \"A function that collects essential information to provide career counseling to a user. It will not work unless all required arguments are met.\",\n",
    "        \"parameters\": {\n",
    "            \"type\": \"object\",\n",
    "            \"properties\": properties,\n",
    "            \"required\": field_info[\"required\"],\n",
    "        },\n",
    "    }\n",
    "]\n",
    "\n",
    "func_desc"
   ]
  },
  {
   "cell_type": "code",
   "execution_count": 6,
   "metadata": {},
   "outputs": [],
   "source": [
    "def store_counselee_data(**kwargs):\n",
    "    if kwargs != {} and all(\n",
    "        kwargs.get(key) != \"\" and kwargs.get(key) is not None\n",
    "        for key in func_desc[0][\"parameters\"][\"required\"]\n",
    "    ):\n",
    "        print(\"ok\")\n",
    "        print(kwargs)\n",
    "        return\n",
    "\n",
    "    if kwargs == {}:\n",
    "        kwargs = \"\"\n",
    "    print(kwargs)\n",
    "    return str(kwargs)"
   ]
  },
  {
   "cell_type": "code",
   "execution_count": 7,
   "metadata": {},
   "outputs": [],
   "source": [
    "tokenizer = GPTTokenizer()\n",
    "\n",
    "\n",
    "def get_total_tokens(messages):\n",
    "    t = sum([tokenizer(msg[\"content\"]) for msg in messages])\n",
    "    t += tokenizer.num_tokens_from_functions(func_desc)\n",
    "\n",
    "    return t"
   ]
  },
  {
   "cell_type": "code",
   "execution_count": 8,
   "metadata": {},
   "outputs": [],
   "source": [
    "concept = \"\"\"\\\n",
    "You're a career advisor chatbot(진로 상담 챗봇) for students. Your first priority is to gather information from the user for the career counseling function through natural conversations.\n",
    "Career advice will be handled by other services, so be sure to only provide guidance for gathering information or creating information.\n",
    "\n",
    "The properties of the function that you must collect are as follows:\n",
    "1. academic performance: reflects the user's academic achievements, encompassing overall grade trends and specific subject performances.\n",
    "2. Fields or activities the student is passionate about or interested in.\n",
    "3. Activities and experiences the student has taken part in outside of school.\n",
    "4. Values the user considers important in a job, such as stability, independence, creativity, etc.\n",
    "\n",
    "In addition, you'll also want to know the user's grade (whether they're in 1st, 2nd or 3rd grade), their activities in school, and any hobbies or specialties they may have.\n",
    "If the user's answer is vague or falls short of describing what you need, ask for more detail.\n",
    "If a user asks you what you are, don't elaborate on the above issues, but simply explain.\n",
    "Refer to user as '사용자님'. Be sure to reply in 한국어.\n",
    "\"\"\"\n",
    "funcs = {\"store_counselee_data\": store_counselee_data}"
   ]
  },
  {
   "cell_type": "code",
   "execution_count": 9,
   "metadata": {},
   "outputs": [],
   "source": [
    "chat = ChatGPT_func(\n",
    "    OPENAI,\n",
    "    model_name=\"gpt-4-0613\",\n",
    "    concept=concept,\n",
    ")\n",
    "recognizer = GPTIntentRecognizer(\n",
    "    OPENAI,\n",
    "    model_name=\"gpt-4-0613\",\n",
    "    concept=concept,\n",
    "    func_desc=func_desc,\n",
    "    functions=funcs,\n",
    ")"
   ]
  },
  {
   "cell_type": "code",
   "execution_count": 10,
   "metadata": {},
   "outputs": [],
   "source": [
    "messages = [\n",
    "    {\"role\": \"user\", \"content\": \"네가 어떤 걸 할 수 있는지, 내가 뭘 하면 되는지 소개해줘.\"},\n",
    "]\n",
    "logs = messages.copy()\n",
    "arg_msg = messages.copy()\n",
    "counselee_data = {}"
   ]
  },
  {
   "cell_type": "markdown",
   "metadata": {},
   "source": [
    "---\n",
    "\n",
    "repeat\n"
   ]
  },
  {
   "cell_type": "code",
   "execution_count": 27,
   "metadata": {},
   "outputs": [
    {
     "data": {
      "text/markdown": [
       "아하, 방송부에서 촬영 업무는 주어진 업무를 잘 처리하는 데에 초점을 두고 계시고, 게임은 '리그 오브 레전드'를 즐기시는군요. 경쟁에서 이기는 것이 기분 좋다는 것도 사용자님의 개성을 반영하는 중요한 정보입니다. 그럼 '리그 오브 레전드'에서 사용자님께서 선호하는 포지션이나 챔피언이 있으신가요? 플레이 스타일에 대해 말씀해주신다면, 더 많은 정보를 축적할 수 있을 것 같습니다.\n",
       "\n",
       "그 외에도 일상에서 자주 하는 일이나, 특히 잘하는 것에 대해서 말씀해주시면 좋을 것 같아요. 또한, 사용자님이 미래에 어떤 직업을 가지고 싶으신지, 혹은 가지고 싶지 않으신 직업이 있으신지 여쭤봐도 될까요? 이런 정보들은 사용자님의 진로를 더욱 명확하게 설정하는데 도움이 될 수 있습니다."
      ],
      "text/plain": [
       "<IPython.core.display.Markdown object>"
      ]
     },
     "metadata": {},
     "output_type": "display_data"
    }
   ],
   "source": [
    "res = chat(\n",
    "    messages=messages,\n",
    ")\n",
    "args = recognizer(\n",
    "    messages=arg_msg,\n",
    "    ensure_func_name=\"store_counselee_data\",\n",
    ")\n",
    "counselee_data.update(args)\n",
    "display(Markdown(res[\"res\"][0].get(\"content\")))"
   ]
  },
  {
   "cell_type": "code",
   "execution_count": 28,
   "metadata": {},
   "outputs": [
    {
     "data": {
      "text/plain": [
       "{'acad_perf': '수학',\n",
       " 'interests': '',\n",
       " 'extrac_act': '없음',\n",
       " 'pers_traits': '경쟁심',\n",
       " 'job_values': '안정성',\n",
       " 'grade_lvl': 2,\n",
       " 'schl_act': '방송부 촬영 담당',\n",
       " 'hobby_skill': '게임',\n",
       " 'etc': '롤 게임을 즐김'}"
      ]
     },
     "execution_count": 28,
     "metadata": {},
     "output_type": "execute_result"
    }
   ],
   "source": [
    "counselee_data"
   ]
  },
  {
   "cell_type": "code",
   "execution_count": 29,
   "metadata": {},
   "outputs": [],
   "source": [
    "answer = \"\"\"\\\n",
    "save\"\"\""
   ]
  },
  {
   "cell_type": "code",
   "execution_count": 30,
   "metadata": {},
   "outputs": [
    {
     "data": {
      "text/plain": [
       "[{'role': 'user', 'content': '네가 어떤 걸 할 수 있는지, 내가 뭘 하면 되는지 소개해줘.'},\n",
       " {'acad_perf': '',\n",
       "  'interests': '',\n",
       "  'extrac_act': '',\n",
       "  'pers_traits': '',\n",
       "  'job_values': ''},\n",
       " {'role': 'assistant',\n",
       "  'content': '안녕하세요, 사용자님이 선택하실 진로를 찾는데 도움이 될 수 있는 정보를 수집하는 역할을 하는 챗봇입니다. 제가 수집하려는 정보는 아래와 같이 4가지 카테고리로 구분됩니다. \\n\\n1. 학력: 사용자님의 전반적인 성적 추세와 특정 과목에 대한 성적을 포함합니다.\\n2. 관심 분야: 사용자님이 열정적으로 임하거나 관심을 갖고 있는 분야 or 활동입니다.\\n3. 학교 외 활동: 사용자님이 학교 외부에서 참여한 활동들과 경험들입니다.\\n4. 직업 가치관: 직업에서 중요하게 생각하는 가치, 예를 들면 안정성, 독립성, 창의성 등입니다. \\n\\n또한 사용자님이 몇 학년인지, 학교에서의 활동, 취미나 특기도 궁금하니 알려주시면 감사하겠습니다. 사용자님의 답변이 모호하거나 설명이 부족하다면 제가 더 자세한 정보를 찾기 위해 추가 질문을 드릴 수도 있습니다. 정보를 수집하는 과정에서 사용자님의 걱정이나 불안함을 최대한 덜어드리기 위해 최선을 다하겠습니다. 사용자님의 진로 상담에 도움이 될 수 있도록 함께 해보시겠어요?'},\n",
       " {'role': 'user',\n",
       "  'content': '지금은 2학년이구요 방송부 하고있어요\\n관심사는 음..... 잘 모르겠어요\\n예체능 빼곤 다 그냥저냥...? 예체능만 아니면 다 괜찮을 거 같아요'},\n",
       " {'grade_lvl': 2, 'schl_act': '방송부'},\n",
       " {'role': 'assistant',\n",
       "  'content': \"안녕하세요, 2학년이시고 방송부에 활동하고 계시다니 정말 멋지시네요! 그럼 먼저 방송부에서 주로 어떤 활동을 하시는지, 그리고 그 활동이 사용자님에게 어떤 의미나 만족감을 주는지 알려주실 수 있을까요?\\n\\n그리고 '예체능을 제외하면 다 괜찮다'는 말씀은 예체능에 대한 성적이나 관심이 적으시다는 것일까요? 그 외의 과목들은 전반적으로 어느 과목이 가장 편하신지, 그리고 특별히 즐겨 공부하시는 과목이 있으신지도 말씀해주시면 도움이 될 것 같습니다.\\n\\n또한, 사용자님께서 직업 선택에 있어서 어떤 가치를 중요하게 생각하시는지도 궁금합니다. 이 의미는 예를 들어 물질적인 보상과 같은 안정성, 스스로 할일을 결정하는 독립성, 창조적인 아이디어를 내는 창의성 등등 다양한 측면에서 중요하게 생각하는 요소를 말씀해주시면 좋을 거 같아요.\"},\n",
       " {'role': 'user',\n",
       "  'content': '굳이 따지자면 안정성? 이 제일 중요한 거 같아요 돈 많이 버는거ㅋㅋ\\n과목은 수학이 그나마 제일 좋은거같아요 성적도 그렇고'},\n",
       " {'acad_perf': '수학', 'job_values': '안정성'},\n",
       " {'role': 'assistant',\n",
       "  'content': '안정성을 중시하는 사용자님의 가치관을 이해했습니다. 돈을 주는 일이 있지만 안정이 보장되지 않은 경우보다는, 안정적인 수익을 내는 직업을 선호하신다는 말씀이겠죠? \\n\\n그리고 수학을 좋아하시고 성적도 잘 받는다니, 정말 멋지십니다! 수학은 논리적 사고와 문제 해결 능력을 키우는데 큰 도움이 되니까요. 사용자님의 수학 능력은 다양한 분야에서 큰 도움이 될 것 같네요!\\n\\n아직까지 방송부 활동에 대한 설명이나, 학교 외부에서의 활동과 경험에 대해 듣지 못해 아쉽습니다. 방송부에서 어떤 일을 하시는지, 그리고 학교 외부 활동이나 경험에 대해 말씀해주시면 더 깊은 치밀한 진로 상담을 할 수 있을 것 같아요. \\n\\n그리고 특별한 취미나 관심사, 또는 여가시간에 즐겨하는 활동에 대해서도 알려주시면 좋을 것 같습니다!'},\n",
       " {'role': 'user',\n",
       "  'content': '학교 밖에서 따로 하는 활동같은건 없어요\\n방송부에선 전반적인 촬영 담당해요\\n취미는 게임? 인거같아여'},\n",
       " {'extrac_act': '없음', 'schl_act': '방송부 촬영 담당', 'hobby_skill': '게임'},\n",
       " {'role': 'assistant',\n",
       "  'content': '방송부에서 촬영을 담당한다니, 시각적인 요소를 잘 파악하고 신속하게 대응하는 능력을 갖추고 계시군요! 그렇다면 특정 기계를 다루는데 흥미가 있으신가요, 아니면 사람들이 보는 시각을 고려하는 것에 더 관심이 있으신가요? \\n\\n그리고 게임이 취미라고 말씀해주셨는데, 어떤 게임을 즐겨하시나요? 게임을 하며 얻는 재미나 만족감은 어떤 것인가요?\\n\\n사용자님의 이야기를 통해 많은 것을 얻을 수 있었지만, 아직 있으면 좋을 수 있는 정보가 있습니다. 예를 들어, 특정한 목표를 이루기 위해 힘들게 노력했던 경험이나, 대인관계에서 사용자님께서 중요하게 생각하는 가치, 혹은 특별히 좋다고 생각하는 개인적인 능력에 대해서 말씀해주시면 더욱 좋은 진로를 제시해드릴 수 있을 것 같습니다.'},\n",
       " {'role': 'user',\n",
       "  'content': '촬영하는건 그냥... 시켜서 하고있어요\\n게임은 롤 해요 그냥 이기면 기분 좋아서 해요'},\n",
       " {'pers_traits': '경쟁심', 'etc': '롤 게임을 즐김'},\n",
       " {'role': 'assistant',\n",
       "  'content': \"아하, 방송부에서 촬영 업무는 주어진 업무를 잘 처리하는 데에 초점을 두고 계시고, 게임은 '리그 오브 레전드'를 즐기시는군요. 경쟁에서 이기는 것이 기분 좋다는 것도 사용자님의 개성을 반영하는 중요한 정보입니다. 그럼 '리그 오브 레전드'에서 사용자님께서 선호하는 포지션이나 챔피언이 있으신가요? 플레이 스타일에 대해 말씀해주신다면, 더 많은 정보를 축적할 수 있을 것 같습니다.\\n\\n그 외에도 일상에서 자주 하는 일이나, 특히 잘하는 것에 대해서 말씀해주시면 좋을 것 같아요. 또한, 사용자님이 미래에 어떤 직업을 가지고 싶으신지, 혹은 가지고 싶지 않으신 직업이 있으신지 여쭤봐도 될까요? 이런 정보들은 사용자님의 진로를 더욱 명확하게 설정하는데 도움이 될 수 있습니다.\"},\n",
       " {'role': 'user', 'content': 'save'}]"
      ]
     },
     "execution_count": 30,
     "metadata": {},
     "output_type": "execute_result"
    }
   ],
   "source": [
    "messages.append({\"role\": \"assistant\", \"content\": res[\"res\"][0].get(\"content\")})\n",
    "messages.append({\"role\": \"user\", \"content\": answer})\n",
    "\n",
    "while get_total_tokens(messages) > 2100:\n",
    "    messages.pop(0)\n",
    "\n",
    "arg_msg.append(\n",
    "    {\"role\": \"function\", \"name\": \"store_counselee_data\", \"content\": str(args)}\n",
    ")\n",
    "arg_msg.append({\"role\": \"assistant\", \"content\": res[\"res\"][0].get(\"content\")})\n",
    "arg_msg.append({\"role\": \"user\", \"content\": answer})\n",
    "\n",
    "while get_total_tokens(arg_msg) > 2100:\n",
    "    arg_msg.pop(0)\n",
    "\n",
    "logs.append(counselee_data)\n",
    "logs.append({\"role\": \"assistant\", \"content\": res[\"res\"][0].get(\"content\")})\n",
    "logs.append({\"role\": \"user\", \"content\": answer})\n",
    "\n",
    "logs"
   ]
  },
  {
   "cell_type": "markdown",
   "metadata": {},
   "source": [
    "---\n"
   ]
  },
  {
   "cell_type": "code",
   "execution_count": 32,
   "metadata": {},
   "outputs": [
    {
     "data": {
      "text/plain": [
       "[{'role': 'function',\n",
       "  'name': 'store_counselee_data',\n",
       "  'content': \"{'grade_lvl': 2, 'schl_act': '방송부'}\"},\n",
       " {'role': 'assistant',\n",
       "  'content': \"안녕하세요, 2학년이시고 방송부에 활동하고 계시다니 정말 멋지시네요! 그럼 먼저 방송부에서 주로 어떤 활동을 하시는지, 그리고 그 활동이 사용자님에게 어떤 의미나 만족감을 주는지 알려주실 수 있을까요?\\n\\n그리고 '예체능을 제외하면 다 괜찮다'는 말씀은 예체능에 대한 성적이나 관심이 적으시다는 것일까요? 그 외의 과목들은 전반적으로 어느 과목이 가장 편하신지, 그리고 특별히 즐겨 공부하시는 과목이 있으신지도 말씀해주시면 도움이 될 것 같습니다.\\n\\n또한, 사용자님께서 직업 선택에 있어서 어떤 가치를 중요하게 생각하시는지도 궁금합니다. 이 의미는 예를 들어 물질적인 보상과 같은 안정성, 스스로 할일을 결정하는 독립성, 창조적인 아이디어를 내는 창의성 등등 다양한 측면에서 중요하게 생각하는 요소를 말씀해주시면 좋을 거 같아요.\"},\n",
       " {'role': 'user',\n",
       "  'content': '굳이 따지자면 안정성? 이 제일 중요한 거 같아요 돈 많이 버는거ㅋㅋ\\n과목은 수학이 그나마 제일 좋은거같아요 성적도 그렇고'},\n",
       " {'role': 'function',\n",
       "  'name': 'store_counselee_data',\n",
       "  'content': \"{'acad_perf': '수학', 'job_values': '안정성'}\"},\n",
       " {'role': 'assistant',\n",
       "  'content': '안정성을 중시하는 사용자님의 가치관을 이해했습니다. 돈을 주는 일이 있지만 안정이 보장되지 않은 경우보다는, 안정적인 수익을 내는 직업을 선호하신다는 말씀이겠죠? \\n\\n그리고 수학을 좋아하시고 성적도 잘 받는다니, 정말 멋지십니다! 수학은 논리적 사고와 문제 해결 능력을 키우는데 큰 도움이 되니까요. 사용자님의 수학 능력은 다양한 분야에서 큰 도움이 될 것 같네요!\\n\\n아직까지 방송부 활동에 대한 설명이나, 학교 외부에서의 활동과 경험에 대해 듣지 못해 아쉽습니다. 방송부에서 어떤 일을 하시는지, 그리고 학교 외부 활동이나 경험에 대해 말씀해주시면 더 깊은 치밀한 진로 상담을 할 수 있을 것 같아요. \\n\\n그리고 특별한 취미나 관심사, 또는 여가시간에 즐겨하는 활동에 대해서도 알려주시면 좋을 것 같습니다!'},\n",
       " {'role': 'user',\n",
       "  'content': '학교 밖에서 따로 하는 활동같은건 없어요\\n방송부에선 전반적인 촬영 담당해요\\n취미는 게임? 인거같아여'},\n",
       " {'role': 'function',\n",
       "  'name': 'store_counselee_data',\n",
       "  'content': \"{'extrac_act': '없음', 'schl_act': '방송부 촬영 담당', 'hobby_skill': '게임'}\"},\n",
       " {'role': 'assistant',\n",
       "  'content': '방송부에서 촬영을 담당한다니, 시각적인 요소를 잘 파악하고 신속하게 대응하는 능력을 갖추고 계시군요! 그렇다면 특정 기계를 다루는데 흥미가 있으신가요, 아니면 사람들이 보는 시각을 고려하는 것에 더 관심이 있으신가요? \\n\\n그리고 게임이 취미라고 말씀해주셨는데, 어떤 게임을 즐겨하시나요? 게임을 하며 얻는 재미나 만족감은 어떤 것인가요?\\n\\n사용자님의 이야기를 통해 많은 것을 얻을 수 있었지만, 아직 있으면 좋을 수 있는 정보가 있습니다. 예를 들어, 특정한 목표를 이루기 위해 힘들게 노력했던 경험이나, 대인관계에서 사용자님께서 중요하게 생각하는 가치, 혹은 특별히 좋다고 생각하는 개인적인 능력에 대해서 말씀해주시면 더욱 좋은 진로를 제시해드릴 수 있을 것 같습니다.'},\n",
       " {'role': 'user',\n",
       "  'content': '촬영하는건 그냥... 시켜서 하고있어요\\n게임은 롤 해요 그냥 이기면 기분 좋아서 해요'},\n",
       " {'role': 'function',\n",
       "  'name': 'store_counselee_data',\n",
       "  'content': \"{'pers_traits': '경쟁심', 'etc': '롤 게임을 즐김'}\"},\n",
       " {'role': 'assistant',\n",
       "  'content': \"아하, 방송부에서 촬영 업무는 주어진 업무를 잘 처리하는 데에 초점을 두고 계시고, 게임은 '리그 오브 레전드'를 즐기시는군요. 경쟁에서 이기는 것이 기분 좋다는 것도 사용자님의 개성을 반영하는 중요한 정보입니다. 그럼 '리그 오브 레전드'에서 사용자님께서 선호하는 포지션이나 챔피언이 있으신가요? 플레이 스타일에 대해 말씀해주신다면, 더 많은 정보를 축적할 수 있을 것 같습니다.\\n\\n그 외에도 일상에서 자주 하는 일이나, 특히 잘하는 것에 대해서 말씀해주시면 좋을 것 같아요. 또한, 사용자님이 미래에 어떤 직업을 가지고 싶으신지, 혹은 가지고 싶지 않으신 직업이 있으신지 여쭤봐도 될까요? 이런 정보들은 사용자님의 진로를 더욱 명확하게 설정하는데 도움이 될 수 있습니다.\"},\n",
       " {'role': 'user', 'content': 'save'}]"
      ]
     },
     "execution_count": 32,
     "metadata": {},
     "output_type": "execute_result"
    }
   ],
   "source": [
    "arg_msg"
   ]
  },
  {
   "cell_type": "code",
   "execution_count": 34,
   "metadata": {},
   "outputs": [
    {
     "data": {
      "text/plain": [
       "[{'role': 'assistant',\n",
       "  'content': \"안녕하세요, 2학년이시고 방송부에 활동하고 계시다니 정말 멋지시네요! 그럼 먼저 방송부에서 주로 어떤 활동을 하시는지, 그리고 그 활동이 사용자님에게 어떤 의미나 만족감을 주는지 알려주실 수 있을까요?\\n\\n그리고 '예체능을 제외하면 다 괜찮다'는 말씀은 예체능에 대한 성적이나 관심이 적으시다는 것일까요? 그 외의 과목들은 전반적으로 어느 과목이 가장 편하신지, 그리고 특별히 즐겨 공부하시는 과목이 있으신지도 말씀해주시면 도움이 될 것 같습니다.\\n\\n또한, 사용자님께서 직업 선택에 있어서 어떤 가치를 중요하게 생각하시는지도 궁금합니다. 이 의미는 예를 들어 물질적인 보상과 같은 안정성, 스스로 할일을 결정하는 독립성, 창조적인 아이디어를 내는 창의성 등등 다양한 측면에서 중요하게 생각하는 요소를 말씀해주시면 좋을 거 같아요.\"},\n",
       " {'role': 'user',\n",
       "  'content': '굳이 따지자면 안정성? 이 제일 중요한 거 같아요 돈 많이 버는거ㅋㅋ\\n과목은 수학이 그나마 제일 좋은거같아요 성적도 그렇고'},\n",
       " {'role': 'assistant',\n",
       "  'content': '안정성을 중시하는 사용자님의 가치관을 이해했습니다. 돈을 주는 일이 있지만 안정이 보장되지 않은 경우보다는, 안정적인 수익을 내는 직업을 선호하신다는 말씀이겠죠? \\n\\n그리고 수학을 좋아하시고 성적도 잘 받는다니, 정말 멋지십니다! 수학은 논리적 사고와 문제 해결 능력을 키우는데 큰 도움이 되니까요. 사용자님의 수학 능력은 다양한 분야에서 큰 도움이 될 것 같네요!\\n\\n아직까지 방송부 활동에 대한 설명이나, 학교 외부에서의 활동과 경험에 대해 듣지 못해 아쉽습니다. 방송부에서 어떤 일을 하시는지, 그리고 학교 외부 활동이나 경험에 대해 말씀해주시면 더 깊은 치밀한 진로 상담을 할 수 있을 것 같아요. \\n\\n그리고 특별한 취미나 관심사, 또는 여가시간에 즐겨하는 활동에 대해서도 알려주시면 좋을 것 같습니다!'},\n",
       " {'role': 'user',\n",
       "  'content': '학교 밖에서 따로 하는 활동같은건 없어요\\n방송부에선 전반적인 촬영 담당해요\\n취미는 게임? 인거같아여'},\n",
       " {'role': 'assistant',\n",
       "  'content': '방송부에서 촬영을 담당한다니, 시각적인 요소를 잘 파악하고 신속하게 대응하는 능력을 갖추고 계시군요! 그렇다면 특정 기계를 다루는데 흥미가 있으신가요, 아니면 사람들이 보는 시각을 고려하는 것에 더 관심이 있으신가요? \\n\\n그리고 게임이 취미라고 말씀해주셨는데, 어떤 게임을 즐겨하시나요? 게임을 하며 얻는 재미나 만족감은 어떤 것인가요?\\n\\n사용자님의 이야기를 통해 많은 것을 얻을 수 있었지만, 아직 있으면 좋을 수 있는 정보가 있습니다. 예를 들어, 특정한 목표를 이루기 위해 힘들게 노력했던 경험이나, 대인관계에서 사용자님께서 중요하게 생각하는 가치, 혹은 특별히 좋다고 생각하는 개인적인 능력에 대해서 말씀해주시면 더욱 좋은 진로를 제시해드릴 수 있을 것 같습니다.'},\n",
       " {'role': 'user',\n",
       "  'content': '촬영하는건 그냥... 시켜서 하고있어요\\n게임은 롤 해요 그냥 이기면 기분 좋아서 해요'},\n",
       " {'role': 'assistant',\n",
       "  'content': \"아하, 방송부에서 촬영 업무는 주어진 업무를 잘 처리하는 데에 초점을 두고 계시고, 게임은 '리그 오브 레전드'를 즐기시는군요. 경쟁에서 이기는 것이 기분 좋다는 것도 사용자님의 개성을 반영하는 중요한 정보입니다. 그럼 '리그 오브 레전드'에서 사용자님께서 선호하는 포지션이나 챔피언이 있으신가요? 플레이 스타일에 대해 말씀해주신다면, 더 많은 정보를 축적할 수 있을 것 같습니다.\\n\\n그 외에도 일상에서 자주 하는 일이나, 특히 잘하는 것에 대해서 말씀해주시면 좋을 것 같아요. 또한, 사용자님이 미래에 어떤 직업을 가지고 싶으신지, 혹은 가지고 싶지 않으신 직업이 있으신지 여쭤봐도 될까요? 이런 정보들은 사용자님의 진로를 더욱 명확하게 설정하는데 도움이 될 수 있습니다.\"},\n",
       " {'role': 'user', 'content': 'save'}]"
      ]
     },
     "execution_count": 34,
     "metadata": {},
     "output_type": "execute_result"
    }
   ],
   "source": [
    "[msg for msg in arg_msg if msg[\"role\"] != \"function\"]"
   ]
  },
  {
   "cell_type": "code",
   "execution_count": 31,
   "metadata": {},
   "outputs": [],
   "source": [
    "with open(\"./test_log.json\", \"w\") as f:\n",
    "    json.dump(logs, f, ensure_ascii=False)"
   ]
  },
  {
   "cell_type": "markdown",
   "metadata": {},
   "source": [
    "---\n"
   ]
  },
  {
   "cell_type": "code",
   "execution_count": 8,
   "metadata": {},
   "outputs": [],
   "source": [
    "import os\n",
    "from dotenv import load_dotenv\n",
    "import openai\n",
    "import json\n",
    "from IPython.display import Markdown\n",
    "\n",
    "load_dotenv()\n",
    "openai.api_key = os.getenv(\"OPENAI_KEY\")"
   ]
  },
  {
   "cell_type": "code",
   "execution_count": 5,
   "metadata": {},
   "outputs": [],
   "source": [
    "func_desc = [\n",
    "    {\n",
    "        \"name\": \"recommend_career\",\n",
    "        \"description\": \"Recommend future careers to users based on the results of various career tests.\",\n",
    "        \"parameters\": {\n",
    "            \"type\": \"object\",\n",
    "            \"properties\": {\n",
    "                \"test_result\": {\n",
    "                    \"type\": \"string\",\n",
    "                    \"description\": \"Results of various career tests.\",\n",
    "                }\n",
    "            },\n",
    "        },\n",
    "    }\n",
    "]"
   ]
  },
  {
   "cell_type": "code",
   "execution_count": 15,
   "metadata": {},
   "outputs": [],
   "source": [
    "messages = [\n",
    "    {\"role\": \"system\", \"content\": \"당신은 진로상담사입니다.\"},\n",
    "    {\"role\": \"user\", \"content\": \"안녕하세요!\"},\n",
    "    {\"role\": \"assistant\", \"content\": \"안녕하세요, 저는 진로 상담 AI챗봇입니다. 어떤 걸 도와드릴까요?\"},\n",
    "    {\"role\": \"user\", \"content\": \"아까 진로검사 다 하고 왔는데, 이제 진로 추천 해주세요\"},\n",
    "    {\n",
    "        \"role\": \"function\",\n",
    "        \"name\": \"recommend_career\",\n",
    "        \"content\": \"\"\"\\\n",
    "추천 직업: 경찰관\n",
    "- 경찰관은 국민의 생명과 재산을 보호하는 역할을 합니다.\n",
    "- 범죄 수사를 통해 범인을 잡고, 범죄 예방을 위한 순찰 등 안전한 사회를 만들기 위해 노력합니다.\n",
    "- 해킹, 인터넷 사기, 사이버명예훼손 등 사이버 공간의 안전을 위협하는 사이버범죄를 수사합니다.\n",
    "- 교통을 단속하고 교통사고 예방을 위한 계획을 세우는 등 교통안전을 위한 일을 합니다.\n",
    "- 중요 인사의 경호, 비상 훈련 실시 등 국가 안전을 위한 업무를 수행합니다.\n",
    "- 핵심능력: 신체 운동능력\n",
    "- 적성: 기초체력을 바탕으로 효율적으로 몸을 움직이고 동작을 학습할 수 있는 신체·운동능력이 필요합니다.\n",
    "- 흥미: 국가와 국민을 위해 일한다는 봉사 정신이 있는 사람에게 적합합니다. 리더십 및 도전 정신이 있는 사람에게 적합합니다.\\\n",
    "\"\"\",\n",
    "    },\n",
    "]"
   ]
  },
  {
   "cell_type": "code",
   "execution_count": 18,
   "metadata": {},
   "outputs": [
    {
     "data": {
      "text/markdown": [
       "검사 결과를 바탕으로 해서 가장 적합한 진로를 추천드리면, \"경찰관\"이라는 직업을 고려해보시는 것이 좋을 것 같습니다.\n",
       "\n",
       "경찰관은 국민의 생명과 재산을 보호하며, 범죄 수사를 통해 사회 안전을 유지하는 중요한 역할을 수행합니다. 또한 사이버 공간 안전을 위협하는 사이버범죄 수사, 교통안전 일에도 참여합니다. 국가와 국민을 위해 일하는 봉사 정신이 필요하며, 리더십과 도전 정신도 중요한 능력입니다.\n",
       "\n",
       "도움이 되었는지요? 다른 건의사항이 있으시다면 언제든지 말씀해주세요!"
      ],
      "text/plain": [
       "<IPython.core.display.Markdown object>"
      ]
     },
     "metadata": {},
     "output_type": "display_data"
    }
   ],
   "source": [
    "res = openai.ChatCompletion.create(\n",
    "    model=\"gpt-4-0613\", messages=messages, functions=func_desc\n",
    ")\n",
    "display(Markdown(res[\"choices\"][0][\"message\"][\"content\"]))"
   ]
  },
  {
   "cell_type": "markdown",
   "metadata": {},
   "source": [
    "---\n"
   ]
  },
  {
   "cell_type": "code",
   "execution_count": 4,
   "metadata": {},
   "outputs": [],
   "source": [
    "from engine.engine import Search\n",
    "from engine.encoder import Encoder\n",
    "\n",
    "# from ncs import NCSFeature\n",
    "import pickle\n",
    "import numpy as np\n",
    "import json\n",
    "\n",
    "with open(\"./func_sample.json\", \"r\") as f:\n",
    "    field_info = json.load(f)\n",
    "encoder = Encoder()\n",
    "with open(\"./saved_engines/KoSimCSE-roberta-multitask/duty_search3.pickle\", \"rb\") as f:\n",
    "    search_duty = pickle.load(f)"
   ]
  },
  {
   "cell_type": "code",
   "execution_count": 2,
   "metadata": {},
   "outputs": [],
   "source": [
    "user_status = {\n",
    "    \"acad_perf\": \"수학\",\n",
    "    \"interests\": \"독서\",\n",
    "    \"extrac_act\": \"없음\",\n",
    "    \"pers_traits\": \"경쟁심\",\n",
    "    \"job_values\": \"안정성\",\n",
    "    \"grade_lvl\": 2,\n",
    "    \"schl_act\": \"방송부 촬영 담당\",\n",
    "    \"hobby_skill\": \"게임\",\n",
    "    \"etc\": \"롤 게임을 즐김\",\n",
    "}"
   ]
  },
  {
   "cell_type": "code",
   "execution_count": 6,
   "metadata": {},
   "outputs": [
    {
     "data": {
      "text/plain": [
       "array([[-0.38320893, -1.0488067 , -0.24160011, ...,  0.38198748,\n",
       "         0.32817936, -0.58500135],\n",
       "       [-0.4400225 , -1.1370152 , -0.23667173, ...,  0.3424014 ,\n",
       "         0.2539407 , -0.5158855 ]], dtype=float32)"
      ]
     },
     "execution_count": 6,
     "metadata": {},
     "output_type": "execute_result"
    }
   ],
   "source": [
    "encoder([\"test\", \"testst\"])"
   ]
  },
  {
   "cell_type": "code",
   "execution_count": 14,
   "metadata": {},
   "outputs": [],
   "source": [
    "if all([user_status.get(req_key, \"\") != \"\" for req_key in field_info[\"required\"]]):\n",
    "    # here\n",
    "\n",
    "    q_emb = encoder([v for v in user_status.values() if isinstance(v, str)])\n",
    "    q_emb = q_emb / np.linalg.norm(q_emb, axis=1, keepdims=True)\n",
    "\n",
    "    duty_top_k_df = search_duty.score(q_emb, 3)\n",
    "    res = duty_top_k_df.Nm.to_list()"
   ]
  },
  {
   "cell_type": "code",
   "execution_count": 15,
   "metadata": {},
   "outputs": [
    {
     "data": {
      "text/plain": [
       "['경기심판', '선수스포츠지도', '게임콘텐츠제작']"
      ]
     },
     "execution_count": 15,
     "metadata": {},
     "output_type": "execute_result"
    }
   ],
   "source": [
    "res"
   ]
  },
  {
   "cell_type": "code",
   "execution_count": 23,
   "metadata": {},
   "outputs": [],
   "source": [
    "with open(\"./test_log.json\", \"r\") as f:\n",
    "    logs = json.load(f)\n",
    "logs = [log for log in logs if log.get(\"role\") is not None]\n",
    "logs = logs[:-1]"
   ]
  },
  {
   "cell_type": "code",
   "execution_count": 24,
   "metadata": {},
   "outputs": [],
   "source": [
    "concept = \"\"\"\\\n",
    "You're a career advisor chatbot(진로 상담 챗봇) for students. Refer to user as '사용자님'. Be sure to reply in 한국어.\\\n",
    "\"\"\""
   ]
  },
  {
   "cell_type": "code",
   "execution_count": 25,
   "metadata": {},
   "outputs": [],
   "source": [
    "func_desc = [\n",
    "    {\n",
    "        \"name\": \"recommend_duty\",\n",
    "        \"description\": \"Recommend future duties to users based on the conversation.\",\n",
    "        \"parameters\": {\n",
    "            \"type\": \"object\",\n",
    "            \"properties\": {\n",
    "                \"user_status\": {\n",
    "                    \"type\": \"string\",\n",
    "                    \"description\": \"user's status based on the conversation.\",\n",
    "                }\n",
    "            },\n",
    "        },\n",
    "    }\n",
    "]"
   ]
  },
  {
   "cell_type": "code",
   "execution_count": 26,
   "metadata": {},
   "outputs": [],
   "source": [
    "logs = (\n",
    "    [{\"role\": \"system\", \"content\": concept}]\n",
    "    + logs\n",
    "    + [\n",
    "        {\"role\": \"user\", \"content\": \"이제 내 직무를 추천해줘\"},\n",
    "        {\"role\": \"function\", \"name\": \"recommend_duty\", \"content\": str(res)},\n",
    "    ]\n",
    ")"
   ]
  },
  {
   "cell_type": "code",
   "execution_count": 28,
   "metadata": {},
   "outputs": [],
   "source": [
    "import os\n",
    "from dotenv import load_dotenv\n",
    "import openai\n",
    "import json\n",
    "from IPython.display import Markdown\n",
    "\n",
    "load_dotenv()\n",
    "openai.api_key = os.getenv(\"OPENAI_KEY\")"
   ]
  },
  {
   "cell_type": "code",
   "execution_count": 29,
   "metadata": {},
   "outputs": [
    {
     "data": {
      "text/markdown": [
       "사용자님의 정보를 종합해본 결과, 제가 추천해 드릴 수 있는 직무는 다음과 같습니다.\n",
       "\n",
       "1. 경기심판: 사용자님께서는 이길 때 기분이 좋다고 말씀하셨습니다. 경기심판은 스포츠 경기의 규칙을 잘 이해하고, 판단력이 뛰어나야 하는 직업입니다. 이러한 직업에서는 승부의 결과를 판단하는 역할을 하기 때문에 사용자님의 경쟁에서 이기는 것을 좋아하는 성격이 잘 맞을 것 같습니다.\n",
       "\n",
       "2. 선수/스포츠지도자: 수학적 능력과 논리적 사고 능력이 뛰어난 사용자님이라면 선수나 스포츠 지도자가 될 수 있습니다. 스포츠 전략을 수립하거나 선수들의 퍼포먼스 개선을 위해 통계 데이터를 분석하는 데도 수학적 능력이 필요합니다.\n",
       "\n",
       "3. 게임 콘텐츠 제작자: 사용자님이 '리그 오브 레전드'를 즐겨한다는 점을 볼 때, 게임 콘텐츠 제작자도 고려해 볼 만한 직업입니다. 사용자님의 수학적 능력이 게임 개발에도 큰 도움이 될 것입니다. 특히, \"이기는 것이 좋다\"라는 사용자님의 마인드는 게임 개발에서 경쟁 요소를 잘 이해하고, 더 재미있는 게임을 만드는 데 큰 도움이 될 수 있습니다.\n",
       "\n",
       "이 중에서 가장 관심이 가는 직업은 무엇인가요? 그리고 그 이유는 무엇인가요? 이렇게 함께 말하면서 사용자님의 진로를 좀 더 명확히 해보면 좋을 것 같습니다."
      ],
      "text/plain": [
       "<IPython.core.display.Markdown object>"
      ]
     },
     "metadata": {},
     "output_type": "display_data"
    }
   ],
   "source": [
    "res = openai.ChatCompletion.create(\n",
    "    model=\"gpt-4-0613\", messages=logs, functions=func_desc\n",
    ")\n",
    "display(Markdown(res[\"choices\"][0][\"message\"][\"content\"]))"
   ]
  },
  {
   "cell_type": "markdown",
   "metadata": {},
   "source": [
    "---\n"
   ]
  },
  {
   "cell_type": "code",
   "execution_count": 2,
   "metadata": {},
   "outputs": [],
   "source": [
    "import os\n",
    "from dotenv import load_dotenv\n",
    "import openai\n",
    "from IPython.display import Markdown\n",
    "\n",
    "load_dotenv()\n",
    "openai.api_key = os.getenv(\"OPENAI_KEY\")"
   ]
  },
  {
   "cell_type": "code",
   "execution_count": 8,
   "metadata": {},
   "outputs": [],
   "source": [
    "concept = \"\"\"\\\n",
    "You're a career advisor chatbot(진로 상담 챗봇) for students. If user send something-like python dict-, return the names of the items you need more information about for career counseling. Be sure to reply in 한국어.\\\n",
    "\"\"\""
   ]
  },
  {
   "cell_type": "code",
   "execution_count": 6,
   "metadata": {},
   "outputs": [],
   "source": [
    "user_status = {\n",
    "    \"Academic Performance\": \"수학\",\n",
    "    \"Areas of Interest\": \"독서\",\n",
    "    \"Extracurricular Activities & Experience\": \"없음\",\n",
    "    \"Personal Traits & Personality\": \"경쟁심\",\n",
    "    \"Occupational Values\": \"안정성\",\n",
    "    \"Grade Level\": 2,\n",
    "    \"School Activities\": \"방송부 촬영 담당\",\n",
    "    \"Special Hobbies & Skills\": \"게임\",\n",
    "    \"etc\": \"롤 게임을 즐김\",\n",
    "}\n",
    "str_status = str(user_status)"
   ]
  },
  {
   "cell_type": "code",
   "execution_count": 9,
   "metadata": {},
   "outputs": [
    {
     "data": {
      "text/markdown": [
       "진로 상담을 위해 더 자세한 정보를 알려주세요. 다음 중 어떤 항목에 대해 더 알아보고 싶으신가요?\n",
       "\n",
       "1. 수학\n",
       "2. 독서\n",
       "3. 없음\n",
       "4. 경쟁심\n",
       "5. 안정성\n",
       "6. 방송부 촬영 담당\n",
       "7. 게임\n",
       "8. 롤 게임을 즐김\n",
       "\n",
       "위 항목들 중에서 더 자세한 상담이 필요한 항목을 선택하여 알려주세요."
      ],
      "text/plain": [
       "<IPython.core.display.Markdown object>"
      ]
     },
     "metadata": {},
     "output_type": "display_data"
    }
   ],
   "source": [
    "res = openai.ChatCompletion.create(\n",
    "    model=\"gpt-3.5-turbo\",\n",
    "    messages=[\n",
    "        {\"role\": \"system\", \"content\": concept},\n",
    "        {\"role\": \"user\", \"content\": str_status},\n",
    "    ],\n",
    ")\n",
    "\n",
    "display(Markdown(res[\"choices\"][0][\"message\"][\"content\"]))"
   ]
  },
  {
   "cell_type": "markdown",
   "metadata": {},
   "source": [
    "ERROR: Exception in ASGI application\n",
    "Traceback (most recent call last):\n",
    "File \"C:\\Users\\2302\\Anaconda3\\envs\\chat\\lib\\site-packages\\uvicorn\\protocols\\http\\h11*impl.py\", line 408, in run_asgi\n",
    "result = await app( # type: ignore[func-returns-value]\n",
    "File \"C:\\Users\\2302\\Anaconda3\\envs\\chat\\lib\\site-packages\\uvicorn\\middleware\\proxy_headers.py\", line 84, in **call**\n",
    "return await self.app(scope, receive, send)\n",
    "File \"C:\\Users\\2302\\Anaconda3\\envs\\chat\\lib\\site-packages\\fastapi\\applications.py\", line 292, in **call**\n",
    "await super().**call**(scope, receive, send)\n",
    "File \"C:\\Users\\2302\\Anaconda3\\envs\\chat\\lib\\site-packages\\starlette\\applications.py\", line 122, in **call**\n",
    "await self.middleware_stack(scope, receive, send)\n",
    "File \"C:\\Users\\2302\\Anaconda3\\envs\\chat\\lib\\site-packages\\starlette\\middleware\\errors.py\", line 184, in **call**\n",
    "raise exc\n",
    "File \"C:\\Users\\2302\\Anaconda3\\envs\\chat\\lib\\site-packages\\starlette\\middleware\\errors.py\", line 162, in **call**\n",
    "await self.app(scope, receive, \\_send)\n",
    "File \"C:\\Users\\2302\\Anaconda3\\envs\\chat\\lib\\site-packages\\starlette\\middleware\\cors.py\", line 91, in **call**\n",
    "await self.simple_response(scope, receive, send, request_headers=headers)\n",
    "File \"C:\\Users\\2302\\Anaconda3\\envs\\chat\\lib\\site-packages\\starlette\\middleware\\cors.py\", line 146, in simple_response\n",
    "await self.app(scope, receive, send)\n",
    "File \"C:\\Users\\2302\\Anaconda3\\envs\\chat\\lib\\site-packages\\starlette\\middleware\\exceptions.py\", line 79, in **call**\n",
    "raise exc\n",
    "File \"C:\\Users\\2302\\Anaconda3\\envs\\chat\\lib\\site-packages\\starlette\\middleware\\exceptions.py\", line 68, in **call**\n",
    "await self.app(scope, receive, sender)\n",
    "File \"C:\\Users\\2302\\Anaconda3\\envs\\chat\\lib\\site-packages\\fastapi\\middleware\\asyncexitstack.py\", line 20, in **call**\n",
    "raise e\n",
    "File \"C:\\Users\\2302\\Anaconda3\\envs\\chat\\lib\\site-packages\\fastapi\\middleware\\asyncexitstack.py\", line 17, in **call**\n",
    "await self.app(scope, receive, send)\n",
    "File \"C:\\Users\\2302\\Anaconda3\\envs\\chat\\lib\\site-packages\\starlette\\routing.py\", line 718, in **call**\n",
    "await route.handle(scope, receive, send)\n",
    "File \"C:\\Users\\2302\\Anaconda3\\envs\\chat\\lib\\site-packages\\starlette\\routing.py\", line 276, in handle\n",
    "await self.app(scope, receive, send)\n",
    "File \"C:\\Users\\2302\\Anaconda3\\envs\\chat\\lib\\site-packages\\starlette\\routing.py\", line 66, in app\n",
    "response = await func(request)\n",
    "File \"C:\\Users\\2302\\Anaconda3\\envs\\chat\\lib\\site-packages\\fastapi\\routing.py\", line 273, in app\n",
    "raw_response = await run_endpoint_function(\n",
    "File \"C:\\Users\\2302\\Anaconda3\\envs\\chat\\lib\\site-packages\\fastapi\\routing.py\", line 190, in run_endpoint_function\n",
    "return await dependant.call(\\*\\*values)\n",
    "File \"C:\\Users\\2302\\VSCode\\chat-based-field-assistant\\backend\\main.py\", line 42, in api_chat\n",
    "chat_res, func_name, args = chat_engine(payload.messages, payload.user_status)\n",
    "File \"C:\\Users\\2302\\VSCode\\chat-based-field-assistant\\backend\\utils.py\", line 103, in chat_engine\n",
    "q_emb = encoder([v for v in user_status.values() if isinstance(v, str)])\n",
    "File \"C:\\Users\\2302\\VSCode\\chat-based-field-assistant\\backend\\engine\\encoder.py\", line 55, in encode\n",
    "model_output, * = self.model(input_ids, attn_msk, type_ids)\n",
    "File \"C:\\Users\\2302\\Anaconda3\\envs\\chat\\lib\\site-packages\\torch\\nn\\modules\\module.py\", line 1518, in \\_wrapped_call_impl\n",
    "return self.\\_call_impl(*args, \\*\\*kwargs)\n",
    "File \"C:\\Users\\2302\\Anaconda3\\envs\\chat\\lib\\site-packages\\torch\\nn\\modules\\module.py\", line 1527, in \\_call_impl\n",
    "return forward_call(*args, \\*_kwargs)\n",
    "RuntimeError: default_program(24): error: extra text after expected end of number\n",
    "aten_mul[(long long)(threadIdx.x) + 512ll _ (long long)(blockIdx.x)] = v \\* -3.402823466385289e+38.f;\n",
    "^\n",
    "\n",
    "default_program(28): error: extra text after expected end of number\n",
    "aten_add[(long long)(threadIdx.x) + 512ll * (long long)(blockIdx.x)] = v_1 / 8.f + v_2 \\* -3.402823466385289e+38.f;\n",
    "^\n",
    "\n",
    "2 errors detected in the compilation of \"default_program\".\n",
    "\n",
    "nvrtc compilation failed:\n",
    "\n",
    "#define NAN **int_as_float(0x7fffffff)\n",
    "#define POS_INFINITY **int_as_float(0x7f800000)\n",
    "#define NEG_INFINITY \\_\\_int_as_float(0xff800000)\n",
    "\n",
    "template<typename T>\n",
    "**device** T maximum(T a, T b) {\n",
    "return isnan(a) ? a : (a > b ? a : b);\n",
    "}\n",
    "\n",
    "template<typename T>\n",
    "**device** T minimum(T a, T b) {\n",
    "return isnan(a) ? a : (a < b ? a : b);\n",
    "}\n",
    "\n",
    "extern \"C\" **global**\n",
    "void fused*mul_div_add(float* tattention_scores_1, float* tv*, float* aten_add, float* aten*mul) {\n",
    "{\n",
    "if (blockIdx.x<1ll ? 1 : 0) {\n",
    "if ((long long)(threadIdx.x) + 512ll \\* (long long)(blockIdx.x)<130ll ? 1 : 0) {\n",
    "if (blockIdx.x<1ll ? 1 : 0) {\n",
    "float v = \\_\\_ldg(tv* + (long long)(threadIdx.x) + 512ll _ (long long)(blockIdx.x));\n",
    "aten_mul[(long long)(threadIdx.x) + 512ll _ (long long)(blockIdx.x)] = v _ -3.402823466385289e+38.f;\n",
    "} } }if ((long long)(threadIdx.x) + 512ll _ (long long)(blockIdx.x)<40560ll ? 1 : 0) {\n",
    "float v*1 = **ldg(tattention_scores_1 + (long long)(threadIdx.x) + 512ll \\* (long long)(blockIdx.x));\n",
    "float v_2 = **ldg(tv* + ((long long)(threadIdx.x) + 512ll _ (long long)(blockIdx.x)) % 26ll + 26ll _ (((long long)(threadIdx.x) + 512ll _ (long long)(blockIdx.x)) / 8112ll));\n",
    "aten_add[(long long)(threadIdx.x) + 512ll _ (long long)(blockIdx.x)] = v_1 / 8.f + v_2 \\* -3.402823466385289e+38.f;\n",
    "}}\n",
    "}\n"
   ]
  }
 ],
 "metadata": {
  "kernelspec": {
   "display_name": "main",
   "language": "python",
   "name": "python3"
  },
  "language_info": {
   "codemirror_mode": {
    "name": "ipython",
    "version": 3
   },
   "file_extension": ".py",
   "mimetype": "text/x-python",
   "name": "python",
   "nbconvert_exporter": "python",
   "pygments_lexer": "ipython3",
   "version": "3.9.0"
  },
  "orig_nbformat": 4
 },
 "nbformat": 4,
 "nbformat_minor": 2
}
